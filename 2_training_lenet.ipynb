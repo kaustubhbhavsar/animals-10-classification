{
  "cells": [
    {
      "cell_type": "markdown",
      "source": [
        "AIM: To train LeNet model from scratch."
      ],
      "metadata": {
        "id": "ypUFTaBc7kCj"
      }
    },
    {
      "cell_type": "code",
      "execution_count": null,
      "metadata": {
        "id": "TB7SxHDsUD2w"
      },
      "outputs": [],
      "source": [
        "# Note: Comment or delete the current code block if dataset is loaded from local disk.\n",
        "# loading dataset from kaggle\n",
        "# upload kaggle.json file\n",
        "! pip install -q kaggle\n",
        "from google.colab import files\n",
        "print(\"Upload 'kaggle.json' file...\")\n",
        "files.upload()\n",
        "\n",
        "# download the dataset(zipped folder) and unzip it\n",
        "! mkdir ~/.kaggle\n",
        "! cp kaggle.json ~/.kaggle/\n",
        "! chmod 600 ~/.kaggle/kaggle.json\n",
        "! kaggle datasets download alessiocorrado99/animals10\n",
        "! unzip animals10.zip"
      ]
    },
    {
      "cell_type": "code",
      "execution_count": null,
      "metadata": {
        "id": "OTJGpCW0UKgb"
      },
      "outputs": [],
      "source": [
        "# Note: Load the class files into current working directory.\n",
        "# importing required libraries\n",
        "from tensorflow.keras.utils import image_dataset_from_directory\n",
        "import tensorflow as tf\n",
        "\n",
        "from keras.callbacks import ModelCheckpoint\n",
        "\n",
        "from imutils import paths\n",
        "import matplotlib.pyplot as plt\n",
        "import os\n",
        "\n",
        "import lenet # class file\n",
        "import helper_functions # class file"
      ]
    },
    {
      "cell_type": "code",
      "execution_count": null,
      "metadata": {
        "id": "jXiUug4QUvxi"
      },
      "outputs": [],
      "source": [
        "# defining image size and batch size\n",
        "batch_size=64\n",
        "image_width=224\n",
        "image_height=224"
      ]
    },
    {
      "cell_type": "code",
      "source": [
        "# getting output class labels and calculating class weight\n",
        "class_labels = sorted(os.listdir('raw-img')) # get class labels\n",
        "print('\\nClass Labels: {}'.format(class_labels))\n",
        "num_classes = len(class_labels) # get number of output classes\n",
        "print('\\nNumber of Classes: {}'.format(num_classes))\n",
        "\n",
        "# calculating total elements in each class\n",
        "class_totals = [len(os.listdir('raw-img' + f\"/{label}\")) for label in class_labels]\n",
        "print(\"\\nTotal Elements in Each Class : {}\".format(class_totals))\n",
        "\n",
        "# calculate class weight\n",
        "class_weight = {i:round((max(class_totals) / class_total), 3) for i, class_total in enumerate(class_totals)}\n",
        "print('\\nClass Weight: {}'.format(class_weight))"
      ],
      "metadata": {
        "id": "I_jBMz9tQiID",
        "colab": {
          "base_uri": "https://localhost:8080/"
        },
        "outputId": "ab067a6f-6ac0-4ff1-a40f-61445b70990f"
      },
      "execution_count": null,
      "outputs": [
        {
          "output_type": "stream",
          "name": "stdout",
          "text": [
            "\n",
            "Class Labels: ['cane', 'cavallo', 'elefante', 'farfalla', 'gallina', 'gatto', 'mucca', 'pecora', 'ragno', 'scoiattolo']\n",
            "\n",
            "Number of Classes: 10\n",
            "\n",
            "Total Elements in Each Class : [4863, 2623, 1446, 2112, 3098, 1668, 1866, 1820, 4821, 1862]\n",
            "\n",
            "Class Weight: {0: 1.0, 1: 1.854, 2: 3.363, 3: 2.303, 4: 1.57, 5: 2.915, 6: 2.606, 7: 2.672, 8: 1.009, 9: 2.612}\n"
          ]
        }
      ]
    },
    {
      "cell_type": "code",
      "execution_count": null,
      "metadata": {
        "id": "36HmMKLuVfDX",
        "colab": {
          "base_uri": "https://localhost:8080/"
        },
        "outputId": "12686cb9-90e1-4606-a8cc-7993ba8dd8dd"
      },
      "outputs": [
        {
          "output_type": "stream",
          "name": "stdout",
          "text": [
            "Processing...\n",
            "Completed...\n"
          ]
        }
      ],
      "source": [
        "# get image paths and move them into train and validation directories\n",
        "imagePaths = list(paths.list_images(\"raw-img\")) # getting path to the directory of images\n",
        "print('Processing...')\n",
        "helper_functions.move_images(imagePaths=imagePaths) # calling function\n",
        "print('Completed...')"
      ]
    },
    {
      "cell_type": "code",
      "execution_count": null,
      "metadata": {
        "id": "5mnkH8bNUyNp",
        "colab": {
          "base_uri": "https://localhost:8080/"
        },
        "outputId": "375b2647-ff52-4013-ed35-c32aff4a21ff"
      },
      "outputs": [
        {
          "output_type": "stream",
          "name": "stdout",
          "text": [
            "Found 18325 files belonging to 10 classes.\n",
            "Found 7854 files belonging to 10 classes.\n"
          ]
        }
      ],
      "source": [
        "# get training dataset\n",
        "train_ds = image_dataset_from_directory(\n",
        "  \"train_dir/\", label_mode='categorical', seed=42, shuffle=True,\n",
        "  image_size=(image_height, image_width),\n",
        "  batch_size=batch_size)\n",
        "\n",
        "# get validation dataset\n",
        "val_ds = image_dataset_from_directory(\n",
        "  \"valid_dir/\", label_mode='categorical', seed=42, shuffle=True,\n",
        "  image_size=(image_height, image_width),\n",
        "  batch_size=batch_size)"
      ]
    },
    {
      "cell_type": "code",
      "execution_count": null,
      "metadata": {
        "id": "TsgJJGVAWNH_"
      },
      "outputs": [],
      "source": [
        "# using buffered prefetching\n",
        "shuffle_size = len(train_ds) # shuffles entire train dataset at each epoch\n",
        "\n",
        "AUTOTUNE = tf.data.AUTOTUNE\n",
        "train_ds = train_ds.cache().shuffle(shuffle_size).prefetch(buffer_size=AUTOTUNE)\n",
        "val_ds = val_ds.cache().prefetch(buffer_size=AUTOTUNE)"
      ]
    },
    {
      "cell_type": "markdown",
      "source": [
        "**Model:**\n",
        "\n",
        "       INPUT => CONV => RELU => POOL => CONV => RELU => POOL => FC => RELU => FC => SOFTMAX\n",
        "\n",
        "Observations:\n",
        "\n",
        "\n",
        "\n",
        "1.   Trainable parameters: 78,432,080.\n",
        "2.   Model is performing poorly on validation dataset.\n",
        "\n",
        "\n",
        "\n",
        "      "
      ],
      "metadata": {
        "id": "4_m5Qa2Df7Ke"
      }
    },
    {
      "cell_type": "code",
      "execution_count": null,
      "metadata": {
        "id": "lx5igNZaWaoV",
        "colab": {
          "base_uri": "https://localhost:8080/",
          "height": 1000
        },
        "outputId": "8f0a3e51-53fe-4db0-f2a1-e1d944ed07e9"
      },
      "outputs": [
        {
          "output_type": "stream",
          "name": "stdout",
          "text": [
            "Model Summary...\n",
            "Model: \"LeNet\"\n",
            "_________________________________________________________________\n",
            " Layer (type)                Output Shape              Param #   \n",
            "=================================================================\n",
            " rescaling_1 (Rescaling)     (None, 224, 224, 3)       0         \n",
            "                                                                 \n",
            " conv2d_2 (Conv2D)           (None, 224, 224, 20)      1520      \n",
            "                                                                 \n",
            " activation_4 (Activation)   (None, 224, 224, 20)      0         \n",
            "                                                                 \n",
            " max_pooling2d_2 (MaxPooling  (None, 112, 112, 20)     0         \n",
            " 2D)                                                             \n",
            "                                                                 \n",
            " conv2d_3 (Conv2D)           (None, 112, 112, 50)      25050     \n",
            "                                                                 \n",
            " activation_5 (Activation)   (None, 112, 112, 50)      0         \n",
            "                                                                 \n",
            " max_pooling2d_3 (MaxPooling  (None, 56, 56, 50)       0         \n",
            " 2D)                                                             \n",
            "                                                                 \n",
            " flatten_1 (Flatten)         (None, 156800)            0         \n",
            "                                                                 \n",
            " dense_2 (Dense)             (None, 500)               78400500  \n",
            "                                                                 \n",
            " activation_6 (Activation)   (None, 500)               0         \n",
            "                                                                 \n",
            " dense_3 (Dense)             (None, 10)                5010      \n",
            "                                                                 \n",
            " activation_7 (Activation)   (None, 10)                0         \n",
            "                                                                 \n",
            "=================================================================\n",
            "Total params: 78,432,080\n",
            "Trainable params: 78,432,080\n",
            "Non-trainable params: 0\n",
            "_________________________________________________________________\n",
            "\n",
            "\n",
            "Model Training...\n",
            "Epoch 1/15\n",
            "287/287 [==============================] - 64s 143ms/step - loss: 4.2189 - accuracy: 0.2646 - val_loss: 1.9862 - val_accuracy: 0.3127\n",
            "Epoch 2/15\n",
            "287/287 [==============================] - 38s 133ms/step - loss: 3.1598 - accuracy: 0.4046 - val_loss: 1.7499 - val_accuracy: 0.3923\n",
            "Epoch 3/15\n",
            "287/287 [==============================] - 39s 134ms/step - loss: 2.3249 - accuracy: 0.5561 - val_loss: 1.7009 - val_accuracy: 0.4391\n",
            "Epoch 4/15\n",
            "287/287 [==============================] - 38s 133ms/step - loss: 1.2052 - accuracy: 0.7622 - val_loss: 1.9689 - val_accuracy: 0.4505\n",
            "Epoch 5/15\n",
            "287/287 [==============================] - 38s 134ms/step - loss: 0.4009 - accuracy: 0.9215 - val_loss: 2.4498 - val_accuracy: 0.4758\n",
            "Epoch 6/15\n",
            "287/287 [==============================] - 38s 134ms/step - loss: 0.1040 - accuracy: 0.9826 - val_loss: 3.1060 - val_accuracy: 0.4665\n",
            "Epoch 7/15\n",
            "287/287 [==============================] - 38s 134ms/step - loss: 0.0444 - accuracy: 0.9937 - val_loss: 3.6256 - val_accuracy: 0.4710\n",
            "Epoch 8/15\n",
            "287/287 [==============================] - 38s 133ms/step - loss: 0.0153 - accuracy: 0.9982 - val_loss: 3.7583 - val_accuracy: 0.4731\n",
            "Epoch 9/15\n",
            "287/287 [==============================] - 38s 133ms/step - loss: 0.0448 - accuracy: 0.9932 - val_loss: 3.8406 - val_accuracy: 0.4600\n",
            "Epoch 10/15\n",
            "287/287 [==============================] - 38s 133ms/step - loss: 0.0549 - accuracy: 0.9912 - val_loss: 4.0433 - val_accuracy: 0.4486\n",
            "Epoch 11/15\n",
            "287/287 [==============================] - 38s 134ms/step - loss: 0.1114 - accuracy: 0.9816 - val_loss: 3.9675 - val_accuracy: 0.4548\n",
            "Epoch 12/15\n",
            "287/287 [==============================] - 39s 134ms/step - loss: 0.1136 - accuracy: 0.9837 - val_loss: 4.0583 - val_accuracy: 0.4175\n",
            "Epoch 13/15\n",
            "287/287 [==============================] - 39s 134ms/step - loss: 0.0929 - accuracy: 0.9854 - val_loss: 4.0559 - val_accuracy: 0.4542\n",
            "Epoch 14/15\n",
            "287/287 [==============================] - 39s 134ms/step - loss: 0.0360 - accuracy: 0.9938 - val_loss: 4.5864 - val_accuracy: 0.4641\n",
            "Epoch 15/15\n",
            "287/287 [==============================] - 38s 134ms/step - loss: 0.0298 - accuracy: 0.9956 - val_loss: 4.4750 - val_accuracy: 0.4539\n",
            "\n",
            "\n",
            "Model Graphs...\n"
          ]
        },
        {
          "output_type": "display_data",
          "data": {
            "text/plain": [
              "<Figure size 576x576 with 2 Axes>"
            ],
            "image/png": "[encoded data removed]"
          },
          "metadata": {
            "needs_background": "light"
          }
        }
      ],
      "source": [
        "# defining model architecture, subsequent training, and plotting graphs\n",
        "# building the model\n",
        "model = lenet.LeNet.build(width=image_width, height=image_height, depth=3,\n",
        "                          classes=num_classes)\n",
        "\n",
        "# compiling and summarizing the model\n",
        "model.compile(optimizer=tf.keras.optimizers.Adam(learning_rate=0.001),\n",
        "              loss=tf.keras.losses.CategoricalCrossentropy(from_logits=False),\n",
        "              metrics=['accuracy'])\n",
        "print('Model Summary...')\n",
        "model.summary()\n",
        "\n",
        "# defining callback - checkpoint\n",
        "checkpoint = ModelCheckpoint('Models/LeNet_Basic/lenet_basic_{epoch:02d}_{val_loss:.3f}.h5', monitor='val_loss', \n",
        "                             mode='min', verbose=0, save_freq='epoch')\n",
        "# total epochs\n",
        "epochs = 15 \n",
        "\n",
        "# training the model on defined parameters\n",
        "print('\\n\\nModel Training...')\n",
        "history = model.fit(\n",
        "  train_ds, validation_data=val_ds, class_weight=class_weight, epochs=epochs, verbose=1,\n",
        "  batch_size=batch_size, callbacks=[checkpoint] \n",
        ")\n",
        "\n",
        "# plot accuracy and loss graphs of the trained model\n",
        "print('\\n\\nModel Graphs...')\n",
        "fig = helper_functions.plot_graphs(history=history)\n",
        "plt.show()"
      ]
    },
    {
      "cell_type": "markdown",
      "source": [
        "**Conclusion:**\n",
        "\n",
        "\n",
        "Model is unable to generalize. \n",
        "* Variability in images too high compared to the size of the model.\n",
        "* Regularization techniques not used.\n",
        "\n",
        "\n",
        "\n",
        "\n"
      ],
      "metadata": {
        "id": "HrPNGmO8gNTP"
      }
    }
  ],
  "metadata": {
    "accelerator": "GPU",
    "colab": {
      "machine_shape": "hm",
      "provenance": []
    },
    "gpuClass": "premium",
    "kernelspec": {
      "display_name": "Python 3",
      "name": "python3"
    },
    "language_info": {
      "name": "python"
    }
  },
  "nbformat": 4,
  "nbformat_minor": 0
}
