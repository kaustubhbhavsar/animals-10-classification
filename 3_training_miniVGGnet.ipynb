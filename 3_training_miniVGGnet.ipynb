{
  "nbformat": 4,
  "nbformat_minor": 0,
  "metadata": {
    "colab": {
      "provenance": [],
      "machine_shape": "hm"
    },
    "kernelspec": {
      "name": "python3",
      "display_name": "Python 3"
    },
    "language_info": {
      "name": "python"
    },
    "gpuClass": "premium",
    "accelerator": "GPU"
  },
  "cells": [
    {
      "cell_type": "markdown",
      "source": [
        "AIM: To train MiniVGGNet model from scratch."
      ],
      "metadata": {
        "id": "d9cc5Mn-WR2K"
      }
    },
    {
      "cell_type": "code",
      "execution_count": null,
      "metadata": {
        "id": "TB7SxHDsUD2w"
      },
      "outputs": [],
      "source": [
        "# Note: Comment or delete the current code block if dataset is loaded from local disk.\n",
        "# loading dataset from kaggle\n",
        "# upload kaggle.json file\n",
        "! pip install -q kaggle\n",
        "from google.colab import files\n",
        "print(\"Upload 'kaggle.json' file...\")\n",
        "files.upload()\n",
        "\n",
        "# download the dataset(zipped folder) and unzip it\n",
        "! mkdir ~/.kaggle\n",
        "! cp kaggle.json ~/.kaggle/\n",
        "! chmod 600 ~/.kaggle/kaggle.json\n",
        "! kaggle datasets download alessiocorrado99/animals10\n",
        "! unzip animals10.zip"
      ]
    },
    {
      "cell_type": "code",
      "source": [
        "# Note: Load the class files into current working directory.\n",
        "# importing required libraries\n",
        "from tensorflow.keras.utils import image_dataset_from_directory\n",
        "import tensorflow as tf\n",
        "\n",
        "from keras.callbacks import ModelCheckpoint\n",
        "\n",
        "from imutils import paths\n",
        "import matplotlib.pyplot as plt\n",
        "import os\n",
        "\n",
        "import minivggnet # class file\n",
        "import helper_functions # class file"
      ],
      "metadata": {
        "id": "OTJGpCW0UKgb"
      },
      "execution_count": null,
      "outputs": []
    },
    {
      "cell_type": "code",
      "source": [
        "# defining image size and batch size\n",
        "batch_size=64\n",
        "image_width=224\n",
        "image_height=224"
      ],
      "metadata": {
        "id": "jXiUug4QUvxi"
      },
      "execution_count": null,
      "outputs": []
    },
    {
      "cell_type": "code",
      "source": [
        "# getting output class labels and calculating class weight\n",
        "class_labels = sorted(os.listdir('raw-img')) # get class labels\n",
        "print('\\nClass Labels: {}'.format(class_labels))\n",
        "num_classes = len(class_labels) # get number of output classes\n",
        "print('\\nNumber of Classes: {}'.format(num_classes))\n",
        "\n",
        "# calculating total elements in each class\n",
        "class_totals = [len(os.listdir('raw-img' + f\"/{label}\")) for label in class_labels]\n",
        "print(\"\\nTotal Elements in Each Class : {}\".format(class_totals))\n",
        "\n",
        "# calculate class weight\n",
        "class_weight = {i:round((max(class_totals) / class_total), 3) for i, class_total in enumerate(class_totals)}\n",
        "print('\\nClass Weight: {}'.format(class_weight))"
      ],
      "metadata": {
        "id": "S8lpw1wdQdwz",
        "colab": {
          "base_uri": "https://localhost:8080/"
        },
        "outputId": "67764236-200a-41d7-c0f3-5d14304a372e"
      },
      "execution_count": null,
      "outputs": [
        {
          "output_type": "stream",
          "name": "stdout",
          "text": [
            "\n",
            "Class Labels: ['cane', 'cavallo', 'elefante', 'farfalla', 'gallina', 'gatto', 'mucca', 'pecora', 'ragno', 'scoiattolo']\n",
            "\n",
            "Number of Classes: 10\n",
            "\n",
            "Total Elements in Each Class : [4863, 2623, 1446, 2112, 3098, 1668, 1866, 1820, 4821, 1862]\n",
            "\n",
            "Class Weight: {0: 1.0, 1: 1.854, 2: 3.363, 3: 2.303, 4: 1.57, 5: 2.915, 6: 2.606, 7: 2.672, 8: 1.009, 9: 2.612}\n"
          ]
        }
      ]
    },
    {
      "cell_type": "code",
      "source": [
        "# get image paths and move them into train and validation directories\n",
        "imagePaths = list(paths.list_images(\"raw-img\")) # getting path to the directory of images\n",
        "print('Processing...')\n",
        "helper_functions.move_images(imagePaths=imagePaths) # calling function\n",
        "print('Completed...')"
      ],
      "metadata": {
        "id": "36HmMKLuVfDX",
        "colab": {
          "base_uri": "https://localhost:8080/"
        },
        "outputId": "4bc06080-e43e-4cd6-e5fc-1fc25cce68d3"
      },
      "execution_count": null,
      "outputs": [
        {
          "output_type": "stream",
          "name": "stdout",
          "text": [
            "Processing...\n",
            "Completed...\n"
          ]
        }
      ]
    },
    {
      "cell_type": "code",
      "source": [
        "# get training dataset\n",
        "train_ds = image_dataset_from_directory(\n",
        "  \"train_dir/\", label_mode='categorical', seed=42, shuffle=True,\n",
        "  image_size=(image_height, image_width),\n",
        "  batch_size=batch_size)\n",
        "\n",
        "# get validation dataset\n",
        "val_ds = image_dataset_from_directory(\n",
        "  \"valid_dir/\", label_mode='categorical', seed=42, shuffle=True,\n",
        "  image_size=(image_height, image_width),\n",
        "  batch_size=batch_size)"
      ],
      "metadata": {
        "colab": {
          "base_uri": "https://localhost:8080/"
        },
        "id": "5mnkH8bNUyNp",
        "outputId": "9cde4a36-3b68-4dea-e17b-7823564932b5"
      },
      "execution_count": null,
      "outputs": [
        {
          "output_type": "stream",
          "name": "stdout",
          "text": [
            "Found 18325 files belonging to 10 classes.\n",
            "Found 7854 files belonging to 10 classes.\n"
          ]
        }
      ]
    },
    {
      "cell_type": "code",
      "source": [
        "# using buffered prefetching\n",
        "shuffle_size = len(train_ds) # shuffles entire train dataset at each epoch\n",
        "\n",
        "AUTOTUNE = tf.data.AUTOTUNE\n",
        "train_ds = train_ds.cache().shuffle(shuffle_size).prefetch(buffer_size=AUTOTUNE)\n",
        "val_ds = val_ds.cache().prefetch(buffer_size=AUTOTUNE)"
      ],
      "metadata": {
        "id": "mpOT6QyjWZ_z"
      },
      "execution_count": null,
      "outputs": []
    },
    {
      "cell_type": "markdown",
      "source": [
        "**Model:**\n",
        "\n",
        "      INPUT => (CONV => RELU => CONV => RELU => POOL)*2 => FC => RELU => FC => SOFTMAX\n",
        "\n",
        "Observations:\n",
        "\n",
        "\n",
        "\n",
        "1.   Trainable parameters: 102,833,066.\n",
        "2.   Model is performing poorly on validation dataset.\n",
        "\n",
        "\n",
        "\n",
        "      "
      ],
      "metadata": {
        "id": "fz9dgInaYj3B"
      }
    },
    {
      "cell_type": "code",
      "source": [
        "# defining model architecture, subsequent training, and plotting graphs\n",
        "# building the model\n",
        "model = minivggnet.MiniVGGNet.build(width=image_width, height=image_height, depth=3,\n",
        "                                classes=num_classes)\n",
        "\n",
        "# compiling and summarizing the model\n",
        "model.compile(optimizer=tf.keras.optimizers.Adam(learning_rate=0.001),\n",
        "              loss=tf.keras.losses.CategoricalCrossentropy(from_logits=False),\n",
        "              metrics=['accuracy'])\n",
        "print('Model Summary...')\n",
        "model.summary()\n",
        "\n",
        "# defining callback - checkpoint\n",
        "checkpoint = ModelCheckpoint('Models/MiniVGGNet_Basic/minivggnet_basic_{epoch:02d}_{val_loss:.3f}.h5', monitor='val_loss', \n",
        "                             mode='min', verbose=0, save_freq='epoch')\n",
        "# total epochs\n",
        "epochs = 15 \n",
        "\n",
        "# training the model on defined parameters\n",
        "print('\\n\\nModel Training...')\n",
        "history = model.fit(\n",
        "  train_ds, validation_data=val_ds, class_weight=class_weight, epochs=epochs, verbose=1,\n",
        "  batch_size=batch_size, callbacks=[checkpoint] \n",
        ")\n",
        "\n",
        "# plot accuracy and loss graphs of the trained model\n",
        "print('\\n\\nModel Graphs...')\n",
        "fig = helper_functions.plot_graphs(history=history)\n",
        "plt.show()"
      ],
      "metadata": {
        "id": "1eZyrzZGWeEY",
        "colab": {
          "base_uri": "https://localhost:8080/",
          "height": 1000
        },
        "outputId": "c1704132-8b37-4945-fb98-a5f25c8e3897"
      },
      "execution_count": null,
      "outputs": [
        {
          "output_type": "stream",
          "name": "stdout",
          "text": [
            "Model Summary...\n",
            "Model: \"MiniVGGNet\"\n",
            "_________________________________________________________________\n",
            " Layer (type)                Output Shape              Param #   \n",
            "=================================================================\n",
            " rescaling (Rescaling)       (None, 224, 224, 3)       0         \n",
            "                                                                 \n",
            " conv2d (Conv2D)             (None, 224, 224, 32)      896       \n",
            "                                                                 \n",
            " activation (Activation)     (None, 224, 224, 32)      0         \n",
            "                                                                 \n",
            " batch_normalization (BatchN  (None, 224, 224, 32)     128       \n",
            " ormalization)                                                   \n",
            "                                                                 \n",
            " conv2d_1 (Conv2D)           (None, 224, 224, 32)      9248      \n",
            "                                                                 \n",
            " activation_1 (Activation)   (None, 224, 224, 32)      0         \n",
            "                                                                 \n",
            " batch_normalization_1 (Batc  (None, 224, 224, 32)     128       \n",
            " hNormalization)                                                 \n",
            "                                                                 \n",
            " max_pooling2d (MaxPooling2D  (None, 112, 112, 32)     0         \n",
            " )                                                               \n",
            "                                                                 \n",
            " dropout (Dropout)           (None, 112, 112, 32)      0         \n",
            "                                                                 \n",
            " conv2d_2 (Conv2D)           (None, 112, 112, 64)      18496     \n",
            "                                                                 \n",
            " activation_2 (Activation)   (None, 112, 112, 64)      0         \n",
            "                                                                 \n",
            " batch_normalization_2 (Batc  (None, 112, 112, 64)     256       \n",
            " hNormalization)                                                 \n",
            "                                                                 \n",
            " conv2d_3 (Conv2D)           (None, 112, 112, 64)      36928     \n",
            "                                                                 \n",
            " activation_3 (Activation)   (None, 112, 112, 64)      0         \n",
            "                                                                 \n",
            " batch_normalization_3 (Batc  (None, 112, 112, 64)     256       \n",
            " hNormalization)                                                 \n",
            "                                                                 \n",
            " max_pooling2d_1 (MaxPooling  (None, 56, 56, 64)       0         \n",
            " 2D)                                                             \n",
            "                                                                 \n",
            " dropout_1 (Dropout)         (None, 56, 56, 64)        0         \n",
            "                                                                 \n",
            " flatten (Flatten)           (None, 200704)            0         \n",
            "                                                                 \n",
            " dense (Dense)               (None, 512)               102760960 \n",
            "                                                                 \n",
            " activation_4 (Activation)   (None, 512)               0         \n",
            "                                                                 \n",
            " batch_normalization_4 (Batc  (None, 512)              2048      \n",
            " hNormalization)                                                 \n",
            "                                                                 \n",
            " dropout_2 (Dropout)         (None, 512)               0         \n",
            "                                                                 \n",
            " dense_1 (Dense)             (None, 10)                5130      \n",
            "                                                                 \n",
            " activation_5 (Activation)   (None, 10)                0         \n",
            "                                                                 \n",
            "=================================================================\n",
            "Total params: 102,834,474\n",
            "Trainable params: 102,833,066\n",
            "Non-trainable params: 1,408\n",
            "_________________________________________________________________\n",
            "\n",
            "\n",
            "Model Training...\n",
            "Epoch 1/15\n",
            "287/287 [==============================] - 129s 352ms/step - loss: 4.1222 - accuracy: 0.3049 - val_loss: 2.6962 - val_accuracy: 0.2050\n",
            "Epoch 2/15\n",
            "287/287 [==============================] - 99s 344ms/step - loss: 2.8406 - accuracy: 0.4726 - val_loss: 1.5566 - val_accuracy: 0.4859\n",
            "Epoch 3/15\n",
            "287/287 [==============================] - 99s 344ms/step - loss: 2.3750 - accuracy: 0.5496 - val_loss: 1.4072 - val_accuracy: 0.5339\n",
            "Epoch 4/15\n",
            "287/287 [==============================] - 99s 346ms/step - loss: 1.8168 - accuracy: 0.6498 - val_loss: 3.3373 - val_accuracy: 0.3048\n",
            "Epoch 5/15\n",
            "287/287 [==============================] - 99s 344ms/step - loss: 1.8280 - accuracy: 0.6480 - val_loss: 2.2276 - val_accuracy: 0.3397\n",
            "Epoch 6/15\n",
            "287/287 [==============================] - 99s 345ms/step - loss: 1.3414 - accuracy: 0.7311 - val_loss: 2.6843 - val_accuracy: 0.3112\n",
            "Epoch 7/15\n",
            "287/287 [==============================] - 99s 345ms/step - loss: 0.7462 - accuracy: 0.8498 - val_loss: 1.2917 - val_accuracy: 0.5987\n",
            "Epoch 8/15\n",
            "287/287 [==============================] - 99s 345ms/step - loss: 0.4384 - accuracy: 0.9088 - val_loss: 2.3608 - val_accuracy: 0.3796\n",
            "Epoch 9/15\n",
            "287/287 [==============================] - 99s 345ms/step - loss: 0.3285 - accuracy: 0.9335 - val_loss: 1.4270 - val_accuracy: 0.6155\n",
            "Epoch 10/15\n",
            "287/287 [==============================] - 99s 345ms/step - loss: 0.2053 - accuracy: 0.9619 - val_loss: 1.5165 - val_accuracy: 0.6182\n",
            "Epoch 11/15\n",
            "287/287 [==============================] - 99s 345ms/step - loss: 0.1264 - accuracy: 0.9778 - val_loss: 1.5903 - val_accuracy: 0.6059\n",
            "Epoch 12/15\n",
            "287/287 [==============================] - 99s 345ms/step - loss: 0.0820 - accuracy: 0.9871 - val_loss: 1.6281 - val_accuracy: 0.6282\n",
            "Epoch 13/15\n",
            "287/287 [==============================] - 99s 344ms/step - loss: 0.0975 - accuracy: 0.9823 - val_loss: 1.7709 - val_accuracy: 0.5974\n",
            "Epoch 14/15\n",
            "287/287 [==============================] - 99s 344ms/step - loss: 0.0944 - accuracy: 0.9825 - val_loss: 1.6278 - val_accuracy: 0.6128\n",
            "Epoch 15/15\n",
            "287/287 [==============================] - 99s 344ms/step - loss: 0.1167 - accuracy: 0.9768 - val_loss: 1.9489 - val_accuracy: 0.5924\n",
            "\n",
            "\n",
            "Model Graphs...\n"
          ]
        },
        {
          "output_type": "display_data",
          "data": {
            "text/plain": [
              "<Figure size 576x576 with 2 Axes>"
            ],
            "image/png": "[encoded data removed]"
          },
          "metadata": {
            "needs_background": "light"
          }
        }
      ]
    },
    {
      "cell_type": "markdown",
      "source": [
        "**Conclusion:**\n",
        "\n",
        "\n",
        "\n",
        "Training from scratch has its own challenges. \n",
        "\n",
        "*   Lot of tweaking of network will be required to arrive at a good result.\n",
        "*   Time and resource consumption is considerably higher compared to using transfer learning.\n",
        "\n",
        "\n",
        "\n"
      ],
      "metadata": {
        "id": "STGPb1ehauyL"
      }
    }
  ]
}