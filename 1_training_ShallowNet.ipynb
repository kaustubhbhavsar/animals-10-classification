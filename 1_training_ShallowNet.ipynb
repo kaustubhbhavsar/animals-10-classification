{
  "nbformat": 4,
  "nbformat_minor": 0,
  "metadata": {
    "colab": {
      "provenance": [],
      "machine_shape": "hm"
    },
    "kernelspec": {
      "name": "python3",
      "display_name": "Python 3"
    },
    "language_info": {
      "name": "python"
    },
    "gpuClass": "premium",
    "accelerator": "GPU"
  },
  "cells": [
    {
      "cell_type": "markdown",
      "source": [
        "AIM: To train shallownet (baseline model)."
      ],
      "metadata": {
        "id": "bfHZrkXy7OJx"
      }
    },
    {
      "cell_type": "code",
      "execution_count": null,
      "metadata": {
        "id": "TB7SxHDsUD2w"
      },
      "outputs": [],
      "source": [
        "# Note: Comment or delete the current code block if dataset is loaded from local disk.\n",
        "# loading dataset from kaggle\n",
        "# upload kaggle.json file\n",
        "! pip install -q kaggle\n",
        "from google.colab import files\n",
        "print(\"Upload 'kaggle.json' file...\")\n",
        "files.upload()\n",
        "\n",
        "# download the dataset(zipped folder) and unzip it\n",
        "! mkdir ~/.kaggle\n",
        "! cp kaggle.json ~/.kaggle/\n",
        "! chmod 600 ~/.kaggle/kaggle.json\n",
        "! kaggle datasets download alessiocorrado99/animals10\n",
        "! unzip animals10.zip"
      ]
    },
    {
      "cell_type": "code",
      "source": [
        "# Note: Load the class files into current working directory.\n",
        "# importing required libraries\n",
        "from tensorflow.keras.utils import image_dataset_from_directory\n",
        "import tensorflow as tf\n",
        "\n",
        "from keras.callbacks import ModelCheckpoint\n",
        "\n",
        "from imutils import paths\n",
        "import matplotlib.pyplot as plt\n",
        "import os\n",
        "\n",
        "import shallownet # class file\n",
        "import helper_functions # class file"
      ],
      "metadata": {
        "id": "OTJGpCW0UKgb"
      },
      "execution_count": null,
      "outputs": []
    },
    {
      "cell_type": "code",
      "source": [
        "# defining image size and batch size\n",
        "batch_size=64\n",
        "image_width=224\n",
        "image_height=224"
      ],
      "metadata": {
        "id": "jXiUug4QUvxi"
      },
      "execution_count": null,
      "outputs": []
    },
    {
      "cell_type": "code",
      "source": [
        "# getting output class labels and calculating class weight\n",
        "class_labels = sorted(os.listdir('raw-img')) # get class labels\n",
        "print('\\nClass Labels: {}'.format(class_labels))\n",
        "num_classes = len(class_labels) # get number of output classes\n",
        "print('\\nNumber of Classes: {}'.format(num_classes))\n",
        "\n",
        "# calculating total elements in each class\n",
        "class_totals = [len(os.listdir('raw-img' + f\"/{label}\")) for label in class_labels]\n",
        "print(\"\\nTotal Elements in Each Class : {}\".format(class_totals))\n",
        "\n",
        "# calculate class weight\n",
        "class_weight = {i:round((max(class_totals) / class_total), 3) for i, class_total in enumerate(class_totals)}\n",
        "print('\\nClass Weight: {}'.format(class_weight))"
      ],
      "metadata": {
        "id": "4IrhbJBEQllU",
        "colab": {
          "base_uri": "https://localhost:8080/"
        },
        "outputId": "ba962ab2-e0d6-4669-ff1e-8ea4e11fc7b1"
      },
      "execution_count": null,
      "outputs": [
        {
          "output_type": "stream",
          "name": "stdout",
          "text": [
            "\n",
            "Class Labels: ['cane', 'cavallo', 'elefante', 'farfalla', 'gallina', 'gatto', 'mucca', 'pecora', 'ragno', 'scoiattolo']\n",
            "\n",
            "Number of Classes: 10\n",
            "\n",
            "Total Elements in Each Class : [4863, 2623, 1446, 2112, 3098, 1668, 1866, 1820, 4821, 1862]\n",
            "\n",
            "Class Weight: {0: 1.0, 1: 1.854, 2: 3.363, 3: 2.303, 4: 1.57, 5: 2.915, 6: 2.606, 7: 2.672, 8: 1.009, 9: 2.612}\n"
          ]
        }
      ]
    },
    {
      "cell_type": "code",
      "source": [
        "# get image paths and move them into train and validation directories\n",
        "imagePaths = list(paths.list_images(\"raw-img\")) # getting path to the directory of images\n",
        "print('Processing...')\n",
        "helper_functions.move_images(imagePaths=imagePaths) # calling function\n",
        "print('Completed...')"
      ],
      "metadata": {
        "id": "36HmMKLuVfDX",
        "colab": {
          "base_uri": "https://localhost:8080/"
        },
        "outputId": "af7f7404-a0f5-45ac-d870-c314a2b720c1"
      },
      "execution_count": null,
      "outputs": [
        {
          "output_type": "stream",
          "name": "stdout",
          "text": [
            "Processing...\n",
            "Completed...\n"
          ]
        }
      ]
    },
    {
      "cell_type": "code",
      "source": [
        "# get training dataset\n",
        "train_ds = image_dataset_from_directory(\n",
        "  \"train_dir/\", label_mode='categorical', seed=42, shuffle=True,\n",
        "  image_size=(image_height, image_width),\n",
        "  batch_size=batch_size)\n",
        "\n",
        "# get validation dataset\n",
        "val_ds = image_dataset_from_directory(\n",
        "  \"valid_dir/\", label_mode='categorical', seed=42, shuffle=True,\n",
        "  image_size=(image_height, image_width),\n",
        "  batch_size=batch_size)"
      ],
      "metadata": {
        "colab": {
          "base_uri": "https://localhost:8080/"
        },
        "id": "5mnkH8bNUyNp",
        "outputId": "8586d043-b06a-49c9-8d9c-6369ce797279"
      },
      "execution_count": null,
      "outputs": [
        {
          "output_type": "stream",
          "name": "stdout",
          "text": [
            "Found 18325 files belonging to 10 classes.\n",
            "Found 7854 files belonging to 10 classes.\n"
          ]
        }
      ]
    },
    {
      "cell_type": "code",
      "source": [
        "# using buffered prefetching\n",
        "shuffle_size = len(train_ds) # shuffles entire train dataset at each epoch\n",
        "\n",
        "AUTOTUNE = tf.data.AUTOTUNE\n",
        "train_ds = train_ds.cache().shuffle(shuffle_size).prefetch(buffer_size=AUTOTUNE)\n",
        "val_ds = val_ds.cache().prefetch(buffer_size=AUTOTUNE)"
      ],
      "metadata": {
        "id": "dlrLhCdbU0Tx"
      },
      "execution_count": null,
      "outputs": []
    },
    {
      "cell_type": "markdown",
      "source": [
        "**Model:**\n",
        "\n",
        "       INPUT => CONV => RELU => FC => SOFTMAX\n",
        "\n",
        "Observations:\n",
        "\n",
        "\n",
        "1.   Trainable parameters: 16,057,226.\n",
        "2.   On the validation dataset, on an average shallownet gives 45% accuracy."
      ],
      "metadata": {
        "id": "ZrFPsC-fiJXB"
      }
    },
    {
      "cell_type": "code",
      "source": [
        "# defining model architecture, subsequent training, and plotting graphs\n",
        "# building the model\n",
        "model = shallownet.ShallowNet.build(width=image_width, height=image_height, depth=3,\n",
        "                                  classes=num_classes)\n",
        "\n",
        "# compiling and summarizing the model\n",
        "model.compile(optimizer=tf.keras.optimizers.Adam(learning_rate=0.001),\n",
        "              loss=tf.keras.losses.CategoricalCrossentropy(from_logits=False),\n",
        "              metrics=['accuracy'])\n",
        "print('Model Summary...')\n",
        "model.summary()\n",
        "\n",
        "# defining callback - checkpoint\n",
        "checkpoint = ModelCheckpoint('Models/ShallowNet_Basic/shallownet_basic_{epoch:02d}_{val_loss:.3f}.h5', monitor='val_loss', \n",
        "                             mode='min', verbose=0, save_freq='epoch')\n",
        "# total epochs\n",
        "epochs = 15 \n",
        "\n",
        "# training the model on defined parameters\n",
        "print('\\n\\nModel Training...')\n",
        "history = model.fit(\n",
        "  train_ds, validation_data=val_ds, class_weight=class_weight, epochs=epochs, verbose=1,\n",
        "  batch_size=batch_size, callbacks=[checkpoint] \n",
        ")\n",
        "\n",
        "# plot accuracy and loss graphs of the trained model\n",
        "print('\\n\\nModel Graphs...')\n",
        "fig = helper_functions.plot_graphs(history=history)\n",
        "plt.show()"
      ],
      "metadata": {
        "id": "1eZyrzZGWeEY",
        "colab": {
          "base_uri": "https://localhost:8080/",
          "height": 1000
        },
        "outputId": "e08042f7-0f4f-4e67-89cc-c04c3d506097"
      },
      "execution_count": null,
      "outputs": [
        {
          "output_type": "stream",
          "name": "stdout",
          "text": [
            "Model Summary...\n",
            "Model: \"ShallowNet\"\n",
            "_________________________________________________________________\n",
            " Layer (type)                Output Shape              Param #   \n",
            "=================================================================\n",
            " rescaling_2 (Rescaling)     (None, 224, 224, 3)       0         \n",
            "                                                                 \n",
            " conv2d_2 (Conv2D)           (None, 224, 224, 32)      896       \n",
            "                                                                 \n",
            " activation_4 (Activation)   (None, 224, 224, 32)      0         \n",
            "                                                                 \n",
            " flatten_2 (Flatten)         (None, 1605632)           0         \n",
            "                                                                 \n",
            " dense_2 (Dense)             (None, 10)                16056330  \n",
            "                                                                 \n",
            " activation_5 (Activation)   (None, 10)                0         \n",
            "                                                                 \n",
            "=================================================================\n",
            "Total params: 16,057,226\n",
            "Trainable params: 16,057,226\n",
            "Non-trainable params: 0\n",
            "_________________________________________________________________\n",
            "\n",
            "\n",
            "Model Training...\n",
            "Epoch 1/15\n",
            "287/287 [==============================] - 21s 72ms/step - loss: 20.8170 - accuracy: 0.2668 - val_loss: 1.9155 - val_accuracy: 0.3271\n",
            "Epoch 2/15\n",
            "287/287 [==============================] - 21s 72ms/step - loss: 2.3473 - accuracy: 0.5862 - val_loss: 1.6931 - val_accuracy: 0.4244\n",
            "Epoch 3/15\n",
            "287/287 [==============================] - 21s 72ms/step - loss: 0.8044 - accuracy: 0.8707 - val_loss: 1.8081 - val_accuracy: 0.4728\n",
            "Epoch 4/15\n",
            "287/287 [==============================] - 21s 72ms/step - loss: 0.2207 - accuracy: 0.9704 - val_loss: 2.0655 - val_accuracy: 0.4652\n",
            "Epoch 5/15\n",
            "287/287 [==============================] - 21s 72ms/step - loss: 0.0847 - accuracy: 0.9928 - val_loss: 2.2459 - val_accuracy: 0.4786\n",
            "Epoch 6/15\n",
            "287/287 [==============================] - 21s 72ms/step - loss: 0.0380 - accuracy: 0.9973 - val_loss: 2.5635 - val_accuracy: 0.4497\n",
            "Epoch 7/15\n",
            "287/287 [==============================] - 21s 72ms/step - loss: 0.0462 - accuracy: 0.9961 - val_loss: 2.5808 - val_accuracy: 0.4523\n",
            "Epoch 8/15\n",
            "287/287 [==============================] - 21s 72ms/step - loss: 0.0157 - accuracy: 0.9992 - val_loss: 2.6761 - val_accuracy: 0.4677\n",
            "Epoch 9/15\n",
            "287/287 [==============================] - 21s 72ms/step - loss: 0.0101 - accuracy: 0.9995 - val_loss: 2.6671 - val_accuracy: 0.4679\n",
            "Epoch 10/15\n",
            "287/287 [==============================] - 21s 72ms/step - loss: 0.0108 - accuracy: 0.9992 - val_loss: 2.8089 - val_accuracy: 0.4664\n",
            "Epoch 11/15\n",
            "287/287 [==============================] - 21s 72ms/step - loss: 0.0107 - accuracy: 0.9990 - val_loss: 3.0002 - val_accuracy: 0.4539\n",
            "Epoch 12/15\n",
            "287/287 [==============================] - 21s 72ms/step - loss: 0.0119 - accuracy: 0.9990 - val_loss: 2.9762 - val_accuracy: 0.4633\n",
            "Epoch 13/15\n",
            "287/287 [==============================] - 21s 72ms/step - loss: 0.0126 - accuracy: 0.9985 - val_loss: 3.2508 - val_accuracy: 0.4593\n",
            "Epoch 14/15\n",
            "287/287 [==============================] - 21s 72ms/step - loss: 0.0070 - accuracy: 0.9993 - val_loss: 3.3038 - val_accuracy: 0.4582\n",
            "Epoch 15/15\n",
            "287/287 [==============================] - 21s 72ms/step - loss: 0.0257 - accuracy: 0.9968 - val_loss: 3.2598 - val_accuracy: 0.4076\n",
            "\n",
            "\n",
            "Model Graphs...\n"
          ]
        },
        {
          "output_type": "display_data",
          "data": {
            "text/plain": [
              "<Figure size 576x576 with 2 Axes>"
            ],
            "image/png": "[encoded data removed]"
          },
          "metadata": {
            "needs_background": "light"
          }
        }
      ]
    },
    {
      "cell_type": "markdown",
      "source": [
        "**Conclusion:**\n",
        "\n",
        "\n",
        "On an average, shallownet gives 45% accuracy on the validation dataset. "
      ],
      "metadata": {
        "id": "XOkH5OoGi7ID"
      }
    }
  ]
}