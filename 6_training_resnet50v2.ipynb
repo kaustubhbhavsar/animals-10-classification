{
  "nbformat": 4,
  "nbformat_minor": 0,
  "metadata": {
    "colab": {
      "provenance": [],
      "machine_shape": "hm"
    },
    "kernelspec": {
      "name": "python3",
      "display_name": "Python 3"
    },
    "language_info": {
      "name": "python"
    },
    "gpuClass": "standard",
    "accelerator": "GPU"
  },
  "cells": [
    {
      "cell_type": "markdown",
      "source": [
        "AIM: To train ResNet50V2 model."
      ],
      "metadata": {
        "id": "wVxuJ9U-U0nH"
      }
    },
    {
      "cell_type": "code",
      "execution_count": null,
      "metadata": {
        "id": "TB7SxHDsUD2w"
      },
      "outputs": [],
      "source": [
        "# Note: Comment or delete the current code block if dataset is loaded from local disk.\n",
        "# loading dataset from kaggle\n",
        "# upload kaggle.json file\n",
        "! pip install -q kaggle\n",
        "from google.colab import files\n",
        "print(\"Upload 'kaggle.json' file...\")\n",
        "files.upload()\n",
        "\n",
        "# download the dataset(zipped folder) and unzip it\n",
        "! mkdir ~/.kaggle\n",
        "! cp kaggle.json ~/.kaggle/\n",
        "! chmod 600 ~/.kaggle/kaggle.json\n",
        "! kaggle datasets download alessiocorrado99/animals10\n",
        "! unzip animals10.zip"
      ]
    },
    {
      "cell_type": "code",
      "source": [
        "# Note: Load the class files into current working directory.\n",
        "# importing required libraries\n",
        "from tensorflow.keras.utils import image_dataset_from_directory\n",
        "import tensorflow as tf\n",
        "\n",
        "from keras.callbacks import ModelCheckpoint\n",
        "\n",
        "from imutils import paths\n",
        "import matplotlib.pyplot as plt\n",
        "import os\n",
        "\n",
        "import resnet50v2 # class file\n",
        "import helper_functions # class file"
      ],
      "metadata": {
        "id": "OTJGpCW0UKgb"
      },
      "execution_count": null,
      "outputs": []
    },
    {
      "cell_type": "code",
      "source": [
        "# defining image size and batch size\n",
        "batch_size=64\n",
        "image_width=224\n",
        "image_height=224"
      ],
      "metadata": {
        "id": "jXiUug4QUvxi"
      },
      "execution_count": null,
      "outputs": []
    },
    {
      "cell_type": "code",
      "source": [
        "# getting output class labels and calculating class weight\n",
        "class_labels = sorted(os.listdir('raw-img')) # get class labels\n",
        "print('\\nClass Labels: {}'.format(class_labels))\n",
        "num_classes = len(class_labels) # get number of output classes\n",
        "print('\\nNumber of Classes: {}'.format(num_classes))\n",
        "\n",
        "# calculating total elements in each class\n",
        "class_totals = [len(os.listdir('raw-img' + f\"/{label}\")) for label in class_labels]\n",
        "print(\"\\nTotal Elements in Each Class : {}\".format(class_totals))\n",
        "\n",
        "# calculate class weight\n",
        "class_weight = {i:round((max(class_totals) / class_total), 3) for i, class_total in enumerate(class_totals)}\n",
        "print('\\nClass Weight: {}'.format(class_weight))"
      ],
      "metadata": {
        "id": "iVVzOCdjQFi2",
        "colab": {
          "base_uri": "https://localhost:8080/"
        },
        "outputId": "1f4e63a5-9a41-4edf-c76b-cffb4ca75fb1"
      },
      "execution_count": null,
      "outputs": [
        {
          "output_type": "stream",
          "name": "stdout",
          "text": [
            "\n",
            "Class Labels: ['cane', 'cavallo', 'elefante', 'farfalla', 'gallina', 'gatto', 'mucca', 'pecora', 'ragno', 'scoiattolo']\n",
            "\n",
            "Number of Classes: 10\n",
            "\n",
            "Total Elements in Each Class : [4863, 2623, 1446, 2112, 3098, 1668, 1866, 1820, 4821, 1862]\n",
            "\n",
            "Class Weight: {0: 1.0, 1: 1.854, 2: 3.363, 3: 2.303, 4: 1.57, 5: 2.915, 6: 2.606, 7: 2.672, 8: 1.009, 9: 2.612}\n"
          ]
        }
      ]
    },
    {
      "cell_type": "code",
      "source": [
        "# get image paths and move them into train and validation directories\n",
        "imagePaths = list(paths.list_images(\"raw-img\")) # getting path to the directory of images\n",
        "print('Processing...')\n",
        "helper_functions.move_images(imagePaths=imagePaths) # calling function\n",
        "print('Completed...')"
      ],
      "metadata": {
        "id": "WRecGxWFx46_",
        "colab": {
          "base_uri": "https://localhost:8080/"
        },
        "outputId": "50231a8c-f4da-44a3-9575-5d0eebe63759"
      },
      "execution_count": null,
      "outputs": [
        {
          "output_type": "stream",
          "name": "stdout",
          "text": [
            "Processing...\n",
            "Completed...\n"
          ]
        }
      ]
    },
    {
      "cell_type": "code",
      "source": [
        "# get training dataset\n",
        "train_ds = image_dataset_from_directory(\n",
        "  \"train_dir/\", label_mode='categorical', seed=42, shuffle=True,\n",
        "  image_size=(image_height, image_width),\n",
        "  batch_size=batch_size)\n",
        "\n",
        "# get validation dataset\n",
        "val_ds = image_dataset_from_directory(\n",
        "  \"valid_dir/\", label_mode='categorical', seed=42, shuffle=True,\n",
        "  image_size=(image_height, image_width),\n",
        "  batch_size=batch_size)"
      ],
      "metadata": {
        "colab": {
          "base_uri": "https://localhost:8080/"
        },
        "id": "5mnkH8bNUyNp",
        "outputId": "2bbc3b8c-9639-450f-9760-e135c6d660b5"
      },
      "execution_count": null,
      "outputs": [
        {
          "output_type": "stream",
          "name": "stdout",
          "text": [
            "Found 18325 files belonging to 10 classes.\n",
            "Found 7854 files belonging to 10 classes.\n"
          ]
        }
      ]
    },
    {
      "cell_type": "code",
      "source": [
        "# using buffered prefetching\n",
        "shuffle_size = len(train_ds) # shuffles entire train dataset at each epoch\n",
        "\n",
        "AUTOTUNE = tf.data.AUTOTUNE\n",
        "train_ds = train_ds.cache().shuffle(shuffle_size).prefetch(buffer_size=AUTOTUNE)\n",
        "val_ds = val_ds.cache().prefetch(buffer_size=AUTOTUNE)"
      ],
      "metadata": {
        "id": "mpOT6QyjWZ_z"
      },
      "execution_count": null,
      "outputs": []
    },
    {
      "cell_type": "markdown",
      "source": [
        "**Model:**\n",
        "\n",
        "      INPUT => ResNet50V2 => GAP => DO => SOFTMAX\n",
        "\n",
        "Observations:\n",
        "\n",
        "\n",
        "\n",
        "1.   Trainable parameters: 20,490.\n",
        "2.   Best epoch: 6.\n",
        "\n",
        "  *   loss: 0.1240 - accuracy: 0.9780 - val_loss: 0.1517 - val_accuracy: 0.9593\n",
        "\n",
        "3.   From epoch 7 onwards model starts overfitting quickly.\n",
        "\n",
        "      "
      ],
      "metadata": {
        "id": "2_Hi83XlU8yG"
      }
    },
    {
      "cell_type": "code",
      "source": [
        "# defining model architecture, subsequent training, and plotting graphs\n",
        "# building the model\n",
        "model = resnet50v2.ResNet50_V2.build(width=image_width, height=image_height, depth=3,\n",
        "                                classes=num_classes, data_aug=False, dense_layer=False)\n",
        "\n",
        "# compiling and summarizing the model\n",
        "model.compile(optimizer=tf.keras.optimizers.Adam(learning_rate=0.001),\n",
        "              loss=tf.keras.losses.CategoricalCrossentropy(from_logits=False),\n",
        "              metrics=['accuracy'])\n",
        "print('Model Summary...')\n",
        "model.summary()\n",
        "\n",
        "# defining callback - checkpoint\n",
        "checkpoint = ModelCheckpoint('Models/ResNet50V2_Basic/resnet50v2_basic_{epoch:02d}_{val_loss:.3f}.h5', monitor='val_loss', \n",
        "                             mode='min', verbose=0, save_freq='epoch')\n",
        "# total epochs\n",
        "epochs = 15 \n",
        "\n",
        "# training the model on defined parameters\n",
        "print('\\n\\nModel Training...')\n",
        "history = model.fit(\n",
        "  train_ds, validation_data=val_ds, class_weight=class_weight, epochs=epochs, verbose=1,\n",
        "  batch_size=batch_size, callbacks=[checkpoint] \n",
        ")\n",
        "\n",
        "# plot accuracy and loss graphs of the trained model\n",
        "print('\\n\\nModel Graphs...')\n",
        "fig = helper_functions.plot_graphs(history=history)\n",
        "plt.show()"
      ],
      "metadata": {
        "id": "lx5igNZaWaoV",
        "colab": {
          "base_uri": "https://localhost:8080/",
          "height": 1000
        },
        "outputId": "a1f3501e-d854-443e-b2c3-b5748c534417"
      },
      "execution_count": null,
      "outputs": [
        {
          "output_type": "stream",
          "name": "stderr",
          "text": [
            "WARNING:tensorflow:Using a while_loop for converting RngReadAndSkip\n",
            "WARNING:tensorflow:Using a while_loop for converting Bitcast\n",
            "WARNING:tensorflow:Using a while_loop for converting Bitcast\n",
            "WARNING:tensorflow:Using a while_loop for converting StatelessRandomUniformV2\n",
            "WARNING:tensorflow:Using a while_loop for converting RngReadAndSkip\n",
            "WARNING:tensorflow:Using a while_loop for converting Bitcast\n",
            "WARNING:tensorflow:Using a while_loop for converting Bitcast\n",
            "WARNING:tensorflow:Using a while_loop for converting StatelessRandomUniformV2\n",
            "WARNING:tensorflow:Using a while_loop for converting ImageProjectiveTransformV3\n"
          ]
        },
        {
          "output_type": "stream",
          "name": "stdout",
          "text": [
            "Downloading data from https://storage.googleapis.com/tensorflow/keras-applications/resnet/resnet50v2_weights_tf_dim_ordering_tf_kernels_notop.h5\n",
            "94668760/94668760 [==============================] - 3s 0us/step\n",
            "Model Summary...\n",
            "Model: \"ResNet50V2\"\n",
            "_________________________________________________________________\n",
            " Layer (type)                Output Shape              Param #   \n",
            "=================================================================\n",
            " input_2 (InputLayer)        [(None, 224, 224, 3)]     0         \n",
            "                                                                 \n",
            " tf.math.truediv (TFOpLambda  (None, 224, 224, 3)      0         \n",
            " )                                                               \n",
            "                                                                 \n",
            " tf.math.subtract (TFOpLambd  (None, 224, 224, 3)      0         \n",
            " a)                                                              \n",
            "                                                                 \n",
            " resnet50v2 (Functional)     (None, 7, 7, 2048)        23564800  \n",
            "                                                                 \n",
            " global_average_pooling2d (G  (None, 2048)             0         \n",
            " lobalAveragePooling2D)                                          \n",
            "                                                                 \n",
            " dropout (Dropout)           (None, 2048)              0         \n",
            "                                                                 \n",
            " dense (Dense)               (None, 10)                20490     \n",
            "                                                                 \n",
            "=================================================================\n",
            "Total params: 23,585,290\n",
            "Trainable params: 20,490\n",
            "Non-trainable params: 23,564,800\n",
            "_________________________________________________________________\n",
            "\n",
            "\n",
            "Model Training...\n",
            "Epoch 1/15\n",
            "287/287 [==============================] - 93s 238ms/step - loss: 0.6092 - accuracy: 0.9022 - val_loss: 0.1473 - val_accuracy: 0.9576\n",
            "Epoch 2/15\n",
            "287/287 [==============================] - 66s 231ms/step - loss: 0.2625 - accuracy: 0.9575 - val_loss: 0.1525 - val_accuracy: 0.9571\n",
            "Epoch 3/15\n",
            "287/287 [==============================] - 67s 234ms/step - loss: 0.1970 - accuracy: 0.9667 - val_loss: 0.1416 - val_accuracy: 0.9609\n",
            "Epoch 4/15\n",
            "287/287 [==============================] - 68s 238ms/step - loss: 0.1694 - accuracy: 0.9718 - val_loss: 0.1392 - val_accuracy: 0.9607\n",
            "Epoch 5/15\n",
            "287/287 [==============================] - 69s 241ms/step - loss: 0.1498 - accuracy: 0.9742 - val_loss: 0.1403 - val_accuracy: 0.9619\n",
            "Epoch 6/15\n",
            "287/287 [==============================] - 69s 240ms/step - loss: 0.1240 - accuracy: 0.9780 - val_loss: 0.1517 - val_accuracy: 0.9593\n",
            "Epoch 7/15\n",
            "287/287 [==============================] - 69s 242ms/step - loss: 0.1148 - accuracy: 0.9792 - val_loss: 0.1507 - val_accuracy: 0.9612\n",
            "Epoch 8/15\n",
            "287/287 [==============================] - 70s 243ms/step - loss: 0.1085 - accuracy: 0.9805 - val_loss: 0.1556 - val_accuracy: 0.9605\n",
            "Epoch 9/15\n",
            "287/287 [==============================] - 70s 242ms/step - loss: 0.1012 - accuracy: 0.9822 - val_loss: 0.1556 - val_accuracy: 0.9618\n",
            "Epoch 10/15\n",
            "287/287 [==============================] - 70s 243ms/step - loss: 0.0987 - accuracy: 0.9832 - val_loss: 0.1628 - val_accuracy: 0.9608\n",
            "Epoch 11/15\n",
            "287/287 [==============================] - 70s 243ms/step - loss: 0.0855 - accuracy: 0.9837 - val_loss: 0.1615 - val_accuracy: 0.9619\n",
            "Epoch 12/15\n",
            "287/287 [==============================] - 70s 243ms/step - loss: 0.0877 - accuracy: 0.9842 - val_loss: 0.1670 - val_accuracy: 0.9599\n",
            "Epoch 13/15\n",
            "287/287 [==============================] - 70s 243ms/step - loss: 0.0782 - accuracy: 0.9854 - val_loss: 0.1701 - val_accuracy: 0.9614\n",
            "Epoch 14/15\n",
            "287/287 [==============================] - 70s 244ms/step - loss: 0.0771 - accuracy: 0.9855 - val_loss: 0.1768 - val_accuracy: 0.9587\n",
            "Epoch 15/15\n",
            "287/287 [==============================] - 70s 243ms/step - loss: 0.0803 - accuracy: 0.9846 - val_loss: 0.1937 - val_accuracy: 0.9586\n",
            "\n",
            "\n",
            "Model Graphs...\n"
          ]
        },
        {
          "output_type": "display_data",
          "data": {
            "text/plain": [
              "<Figure size 576x576 with 2 Axes>"
            ],
            "image/png": "[encoded data removed]"
          },
          "metadata": {
            "needs_background": "light"
          }
        }
      ]
    },
    {
      "cell_type": "markdown",
      "source": [
        "**Conclusion:**\n",
        "\n",
        "\n",
        "\n",
        "1.   Epoch 6 of ResNet50V2 model gives the best results. However, the results are not as good as given by best model from MobileNetV3Large. Also, the number of trainable parameters are 2X more than that of its counterpart.\n",
        "\n",
        "2.   Size of ResNet50V2 is approximately 90 MB, which is approximately more than 8 times that of MobileNetV3Large (approximately 12 MB).\n"
      ],
      "metadata": {
        "id": "IGgwmrnPVnEi"
      }
    }
  ]
}